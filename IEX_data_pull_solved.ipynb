{
 "cells": [
  {
   "cell_type": "code",
   "execution_count": 1,
   "metadata": {
    "collapsed": true
   },
   "outputs": [],
   "source": [
    "#requirements \n",
    "import pandas as pd\n",
    "import requests as req\n",
    "import json"
   ]
  },
  {
   "cell_type": "code",
   "execution_count": 28,
   "metadata": {
    "collapsed": true
   },
   "outputs": [],
   "source": [
    "#Set up variables for API pulls\n",
    "\n",
    "ticker=\"BAC\"\n",
    "company_info=\"company\"\n",
    "high_low=\"ohlc\""
   ]
  },
  {
   "cell_type": "code",
   "execution_count": 29,
   "metadata": {},
   "outputs": [],
   "source": [
    "#set up urls\n",
    "url1 = 'https://api.iextrading.com/1.0/stock/'+ticker+'/'+company_info\n",
    "url2 = 'https://api.iextrading.com/1.0/stock/'+ticker+'/'+high_low\n",
    "\n",
    "#pull the data use get request & convert to json format\n",
    "info = req.get(url1)\n",
    "info=info.json()\n",
    "price=req.get(url2)\n",
    "price=price.json()"
   ]
  },
  {
   "cell_type": "code",
   "execution_count": 30,
   "metadata": {},
   "outputs": [
    {
     "data": {
      "text/plain": [
       "{'CEO': 'Brian T. Moynihan',\n",
       " 'companyName': 'Bank of America Corporation',\n",
       " 'description': 'Bank of America Corporation is a bank holding and a financial holding company. The company provides financial products and services to people, companies and institutional investors.',\n",
       " 'exchange': 'New York Stock Exchange',\n",
       " 'industry': 'Banks',\n",
       " 'issueType': 'cs',\n",
       " 'sector': 'Financial Services',\n",
       " 'symbol': 'BAC',\n",
       " 'tags': ['Financial Services', 'Banks - Global', 'Banks'],\n",
       " 'website': 'http://www.bankofamerica.com'}"
      ]
     },
     "execution_count": 30,
     "metadata": {},
     "output_type": "execute_result"
    }
   ],
   "source": [
    "#inspect the data\n",
    "info"
   ]
  },
  {
   "cell_type": "code",
   "execution_count": 31,
   "metadata": {},
   "outputs": [
    {
     "data": {
      "text/plain": [
       "{'close': {'price': 30.74, 'time': 1534536019791},\n",
       " 'high': 30.855,\n",
       " 'low': 30.545,\n",
       " 'open': {'price': 30.67, 'time': 1534512612053}}"
      ]
     },
     "execution_count": 31,
     "metadata": {},
     "output_type": "execute_result"
    }
   ],
   "source": [
    "price"
   ]
  },
  {
   "cell_type": "code",
   "execution_count": 32,
   "metadata": {},
   "outputs": [
    {
     "name": "stdout",
     "output_type": "stream",
     "text": [
      "The CEO of Bank of America Corporation is Brian T. Moynihan.  Their opening price was $30.67.\n"
     ]
    }
   ],
   "source": [
    "# Who is the CEO and what was their opening price?\n",
    "print('The CEO of '+ info['companyName']+ ' is '+info['CEO']+ '.  Their opening price was $'+str(price['open']['price'])+'.')"
   ]
  },
  {
   "cell_type": "code",
   "execution_count": null,
   "metadata": {},
   "outputs": [],
   "source": []
  },
  {
   "cell_type": "code",
   "execution_count": null,
   "metadata": {},
   "outputs": [],
   "source": []
  },
  {
   "cell_type": "code",
   "execution_count": null,
   "metadata": {
    "collapsed": true
   },
   "outputs": [],
   "source": []
  },
  {
   "cell_type": "code",
   "execution_count": null,
   "metadata": {},
   "outputs": [],
   "source": []
  },
  {
   "cell_type": "code",
   "execution_count": null,
   "metadata": {
    "collapsed": true
   },
   "outputs": [],
   "source": []
  },
  {
   "cell_type": "code",
   "execution_count": null,
   "metadata": {},
   "outputs": [],
   "source": []
  },
  {
   "cell_type": "code",
   "execution_count": null,
   "metadata": {},
   "outputs": [],
   "source": []
  },
  {
   "cell_type": "code",
   "execution_count": null,
   "metadata": {
    "collapsed": true
   },
   "outputs": [],
   "source": []
  }
 ],
 "metadata": {
  "kernelspec": {
   "display_name": "Python 3",
   "language": "python",
   "name": "python3"
  },
  "language_info": {
   "codemirror_mode": {
    "name": "ipython",
    "version": 3
   },
   "file_extension": ".py",
   "mimetype": "text/x-python",
   "name": "python",
   "nbconvert_exporter": "python",
   "pygments_lexer": "ipython3",
   "version": "3.6.2"
  }
 },
 "nbformat": 4,
 "nbformat_minor": 2
}
